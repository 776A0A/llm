{
  "cells": [
    {
      "cell_type": "code",
      "execution_count": null,
      "metadata": {
        "id": "u0K_tWpJTXTx"
      },
      "outputs": [],
      "source": [
        "!pip install llama-index\n",
        "!pip install openai\n",
        "!pip install sentence-transformers\n",
        "!pip install pdf2image\n",
        "!pip install Flask"
      ]
    },
    {
      "cell_type": "code",
      "execution_count": null,
      "metadata": {
        "id": "8hO61BAgUV7-"
      },
      "outputs": [],
      "source": [
        "from flask import Flask\n",
        "\n",
        "app = Flask(__name__)\n",
        "\n",
        "\n",
        "@app.route(\"/\")\n",
        "def home():\n",
        "    return \"Hello World!\"\n",
        "\n",
        "\n",
        "if __name__ == \"__main__\":\n",
        "    app.run(host=\"0.0.0.0\", port=5601)"
      ]
    },
    {
      "cell_type": "code",
      "execution_count": null,
      "metadata": {
        "id": "q97nNq3WUuwG"
      },
      "outputs": [],
      "source": [
        "from llama_index.indices.loading import load_index_from_storage\n",
        "import os\n",
        "from llama_index import SimpleDirectoryReader, GPTVectorStoreIndex, StorageContext\n",
        "\n",
        "os.environ[\"OPENAI_API_KEY\"] = \"xxx\"\n",
        "\n",
        "index = None\n",
        "index_dir = \"./storage\"\n",
        "\n",
        "\n",
        "def initialize_index():\n",
        "    global index\n",
        "    if os.path.exists(index_dir):\n",
        "        storage_context = StorageContext.from_defaults(persist_dir=index_dir)\n",
        "        index = load_index_from_storage(storage_context=storage_context)\n",
        "    else:\n",
        "        storage_context = StorageContext.from_defaults()\n",
        "        documents = SimpleDirectoryReader(\n",
        "            \"/content/drive/MyDrive/Colab Notebooks/data/documents\"\n",
        "        ).load_data()\n",
        "        index = GPTVectorStoreIndex.from_documents(\n",
        "            documents=documents, storage_context=storage_context\n",
        "        )\n",
        "        storage_context.persist(index_dir)"
      ]
    },
    {
      "cell_type": "code",
      "execution_count": null,
      "metadata": {
        "id": "MllOFQZ6WzvA"
      },
      "outputs": [],
      "source": [
        "from werkzeug.utils import secure_filename\n",
        "from flask import request\n",
        "from multiprocessing.managers import BaseManager\n",
        "import os\n",
        "\n",
        "manager = BaseManager((\"\", 5602), b\"password\")\n",
        "manager.register(\"query_index\")\n",
        "manager.connect()\n",
        "\n",
        "\n",
        "@app.route(\"/query\", methods=[\"GET\"])\n",
        "def query_index():\n",
        "    query_text = request.args.get(\"text\", None)\n",
        "    if not query_text:\n",
        "        return \"No text found, please include a ?text=blah parameter in the URL\", 400\n",
        "    response = manager.query_index(query_text)._getvalue()\n",
        "    return response, 200\n",
        "\n",
        "\n",
        "manager.register(\"insert_init_index\")\n",
        "\n",
        "\n",
        "@app.route(\"/uploadFile\", method=[\"POST\"])\n",
        "def upload_file():\n",
        "    global manager\n",
        "    if \"file\" not in request.files:\n",
        "        return \"Please send a POST request with a file\", 400\n",
        "    filepath = None\n",
        "    try:\n",
        "        uploaded_file = request.files[\"file\"]\n",
        "        filename = secure_filename(uploaded_file)\n",
        "        filepath = os.path.join(\"documents\", os.path.basename(filename))\n",
        "        uploaded_file.save(filepath)\n",
        "\n",
        "        if request.form.get(\"filename_as_doc_id\", None) is not None:\n",
        "            manager.insert_into_index(filepath, doc_id=filename)\n",
        "        else:\n",
        "            manager.insert_into_index(filepath)\n",
        "    except Exception as e:\n",
        "        if filepath is not None and os.path.exists(filepath):\n",
        "            os.remove(filepath)\n",
        "        return \"Error: {}\".format(str(e)), 500\n",
        "\n",
        "    if filepath is not None and os.path.exists(filepath):\n",
        "        os.remove(filepath)\n",
        "\n",
        "    return \"File inserted!\", 200"
      ]
    },
    {
      "cell_type": "code",
      "execution_count": null,
      "metadata": {
        "id": "FRIUlhxvX1D2"
      },
      "outputs": [],
      "source": [
        "import os\n",
        "from multiprocessing import Lock\n",
        "from multiprocessing.managers import BaseManager\n",
        "from llama_index import SimpleDirectoryReader, GPTVectorStoreIndex, Document\n",
        "\n",
        "index = None\n",
        "lock = Lock()\n",
        "\n",
        "\n",
        "def query_index(query_text):\n",
        "    global index\n",
        "    query_engine = index.as_query_engine()\n",
        "    response = query_engine.query(query_text)\n",
        "    return str(response)\n",
        "\n",
        "\n",
        "def insert_into_index(doc_text, doc_id=None):\n",
        "    global index\n",
        "    document = SimpleDirectoryReader(input_files=[doc_text]).load_data()[0]\n",
        "    if doc_id is not None:\n",
        "        document.doc_id = doc_id\n",
        "\n",
        "    with lock:\n",
        "        index.insert(document)\n",
        "        index.storage_context.persist()\n",
        "\n",
        "\n",
        "def initialize_index():\n",
        "    global index\n",
        "    with lock:\n",
        "        if os.path.exists(index_dir):\n",
        "            storage_context = StorageContext.from_defaults(persist_dir=index_dir)\n",
        "            index = load_index_from_storage(storage_context=storage_context)\n",
        "        else:\n",
        "            storage_context = StorageContext.from_defaults()\n",
        "            documents = SimpleDirectoryReader(\n",
        "                \"/content/drive/MyDrive/Colab Notebooks/data/documents\"\n",
        "            ).load_data()\n",
        "            index = GPTVectorStoreIndex.from_documents(\n",
        "                documents=documents, storage_context=storage_context\n",
        "            )\n",
        "            storage_context.persist(index_dir)\n",
        "\n",
        "\n",
        "if __name__ == \"__main__\":\n",
        "    initialize_index()\n",
        "\n",
        "    manager = BaseManager((\"\", 5602), b\"password\")\n",
        "    manager.register(\"query_index\", query_index)\n",
        "    manager.register(\"insert_into_index\", insert_into_index)\n",
        "    server = manager.get_server()\n",
        "    server.serve_forever()"
      ]
    },
    {
      "cell_type": "code",
      "execution_count": null,
      "metadata": {
        "id": "E6yuM-o6bf_x"
      },
      "outputs": [],
      "source": []
    }
  ],
  "metadata": {
    "accelerator": "GPU",
    "colab": {
      "gpuType": "T4",
      "provenance": []
    },
    "kernelspec": {
      "display_name": "Python 3.10.8 ('llm')",
      "language": "python",
      "name": "python3"
    },
    "language_info": {
      "name": "python",
      "version": "3.10.8"
    },
    "vscode": {
      "interpreter": {
        "hash": "4fc23e76f3ab0d08f73c715ca7eda992f68b82130559290d613113849e6bb006"
      }
    }
  },
  "nbformat": 4,
  "nbformat_minor": 0
}
